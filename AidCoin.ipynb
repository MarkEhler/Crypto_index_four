{
 "cells": [
  {
   "cell_type": "code",
   "execution_count": 31,
   "metadata": {},
   "outputs": [],
   "source": [
    "import bs4\n",
    "from urllib.request import urlopen as uReq\n",
    "from bs4 import BeautifulSoup as soup\n",
    "import requests"
   ]
  },
  {
   "cell_type": "markdown",
   "metadata": {},
   "source": [
    "# general init function"
   ]
  },
  {
   "cell_type": "code",
   "execution_count": 34,
   "metadata": {},
   "outputs": [],
   "source": [
    "# source can be changed dynamically so that all currencies can be called with the same script using a function or a lass\n",
    "# start and end can also be adjusted dynamically for future scrapes\n",
    "enddate = '20191002'\n",
    "startdate = '20130428' # 10/28/2019\n",
    "currencies = ['aidcoin', 'decred', 'ecobit', 'faircoin']\n",
    "def scrape_hist(currency, startdate, enddate):\n",
    "    source=requests.get(f\"https://coinmarketcap.com/currencies/{currency}/historical-data/?start={startdate}&end={enddate}\").text\n",
    "    page_soup=soup(source,\"lxml\")\n",
    "    scraped_page=page_soup.find_all(\"tr\",{\"class\":\"text-right\"})\n",
    "    return scraped_page"
   ]
  },
  {
   "cell_type": "code",
   "execution_count": 35,
   "metadata": {},
   "outputs": [],
   "source": [
    "coins = {}\n",
    "for i in currencies:\n",
    "    coins.update( {i : scrape_hist(i, startdate, enddate)} )"
   ]
  },
  {
   "cell_type": "code",
   "execution_count": 38,
   "metadata": {},
   "outputs": [
    {
     "data": {
      "text/plain": [
       "dict_keys(['aidcoin', 'decred', 'ecobit', 'faircoin'])"
      ]
     },
     "execution_count": 38,
     "metadata": {},
     "output_type": "execute_result"
    }
   ],
   "source": [
    "coins.keys()"
   ]
  },
  {
   "cell_type": "code",
   "execution_count": 64,
   "metadata": {},
   "outputs": [
    {
     "data": {
      "text/plain": [
       "15"
      ]
     },
     "execution_count": 64,
     "metadata": {},
     "output_type": "execute_result"
    }
   ],
   "source": [
    "len(coins['aidcoin'][0])"
   ]
  },
  {
   "cell_type": "code",
   "execution_count": 54,
   "metadata": {},
   "outputs": [],
   "source": [
    "for i in coins['aidcoin'][0]:\n",
    "    print(coins[i][0].find_all(\"td\"))"
   ]
  },
  {
   "cell_type": "code",
   "execution_count": 55,
   "metadata": {},
   "outputs": [],
   "source": [
    "# needs to parse the varibles to remove commas\n",
    "\n",
    "for i in coins.keys():\n",
    "    filename= f\"{i}.csv\"\n",
    "    f=open(filename,\"w\")\n",
    "    headers=\"Date,Open,High,Low,Close,Volume,Market_Cap\\n\"\n",
    "    f.write(headers)\n",
    "        for i in range(len(coins[i]))\n",
    "        date = coins[i][0].td.text\n",
    "        price_list = coins[i][0].find_all(\"td\")\n",
    "        price = price_list[1].text\n",
    "        high = price_list[2].text\n",
    "        low = price_list[3].text\n",
    "        close = price_list[4].text\n",
    "        volume = price_list[5].text\n",
    "        market_cap = price_list[6].text\n",
    "        row=date.replace(\",\",\" \")+\",\"+price.replace(\",\",\" \") + \",\"+high.replace(\",\",\" \")+\",\"+low.replace(\",\",\" \")+\",\"+close.replace(\",\",\" \")+\",\"+volume.replace(\",\",\" \")+\",\"+market_cap.replace(\",\",\" \")+\"\\n\" \n",
    "        f.write(row)\n",
    "    f.close()"
   ]
  },
  {
   "cell_type": "code",
   "execution_count": 56,
   "metadata": {},
   "outputs": [],
   "source": [
    "import pandas as pd\n",
    "df = pd.read_csv('ecobit.csv')"
   ]
  },
  {
   "cell_type": "code",
   "execution_count": 57,
   "metadata": {},
   "outputs": [
    {
     "data": {
      "text/html": [
       "<div>\n",
       "<style scoped>\n",
       "    .dataframe tbody tr th:only-of-type {\n",
       "        vertical-align: middle;\n",
       "    }\n",
       "\n",
       "    .dataframe tbody tr th {\n",
       "        vertical-align: top;\n",
       "    }\n",
       "\n",
       "    .dataframe thead th {\n",
       "        text-align: right;\n",
       "    }\n",
       "</style>\n",
       "<table border=\"1\" class=\"dataframe\">\n",
       "  <thead>\n",
       "    <tr style=\"text-align: right;\">\n",
       "      <th></th>\n",
       "      <th>Date</th>\n",
       "      <th>Open</th>\n",
       "      <th>High</th>\n",
       "      <th>Low</th>\n",
       "      <th>Close</th>\n",
       "      <th>Volume</th>\n",
       "      <th>Market_Cap</th>\n",
       "    </tr>\n",
       "  </thead>\n",
       "  <tbody>\n",
       "    <tr>\n",
       "      <th>0</th>\n",
       "      <td>Oct 02  2019</td>\n",
       "      <td>0.003803</td>\n",
       "      <td>0.003803</td>\n",
       "      <td>0.003803</td>\n",
       "      <td>0.003803</td>\n",
       "      <td>-</td>\n",
       "      <td>1 690 337</td>\n",
       "    </tr>\n",
       "  </tbody>\n",
       "</table>\n",
       "</div>"
      ],
      "text/plain": [
       "           Date      Open      High       Low     Close Volume Market_Cap\n",
       "0  Oct 02  2019  0.003803  0.003803  0.003803  0.003803      -  1 690 337"
      ]
     },
     "execution_count": 57,
     "metadata": {},
     "output_type": "execute_result"
    }
   ],
   "source": [
    "df.head()"
   ]
  },
  {
   "cell_type": "code",
   "execution_count": 58,
   "metadata": {},
   "outputs": [
    {
     "data": {
      "text/html": [
       "<div>\n",
       "<style scoped>\n",
       "    .dataframe tbody tr th:only-of-type {\n",
       "        vertical-align: middle;\n",
       "    }\n",
       "\n",
       "    .dataframe tbody tr th {\n",
       "        vertical-align: top;\n",
       "    }\n",
       "\n",
       "    .dataframe thead th {\n",
       "        text-align: right;\n",
       "    }\n",
       "</style>\n",
       "<table border=\"1\" class=\"dataframe\">\n",
       "  <thead>\n",
       "    <tr style=\"text-align: right;\">\n",
       "      <th></th>\n",
       "      <th>Open</th>\n",
       "      <th>High</th>\n",
       "      <th>Low</th>\n",
       "      <th>Close</th>\n",
       "    </tr>\n",
       "  </thead>\n",
       "  <tbody>\n",
       "    <tr>\n",
       "      <th>count</th>\n",
       "      <td>1.000000</td>\n",
       "      <td>1.000000</td>\n",
       "      <td>1.000000</td>\n",
       "      <td>1.000000</td>\n",
       "    </tr>\n",
       "    <tr>\n",
       "      <th>mean</th>\n",
       "      <td>0.003803</td>\n",
       "      <td>0.003803</td>\n",
       "      <td>0.003803</td>\n",
       "      <td>0.003803</td>\n",
       "    </tr>\n",
       "    <tr>\n",
       "      <th>std</th>\n",
       "      <td>NaN</td>\n",
       "      <td>NaN</td>\n",
       "      <td>NaN</td>\n",
       "      <td>NaN</td>\n",
       "    </tr>\n",
       "    <tr>\n",
       "      <th>min</th>\n",
       "      <td>0.003803</td>\n",
       "      <td>0.003803</td>\n",
       "      <td>0.003803</td>\n",
       "      <td>0.003803</td>\n",
       "    </tr>\n",
       "    <tr>\n",
       "      <th>25%</th>\n",
       "      <td>0.003803</td>\n",
       "      <td>0.003803</td>\n",
       "      <td>0.003803</td>\n",
       "      <td>0.003803</td>\n",
       "    </tr>\n",
       "    <tr>\n",
       "      <th>50%</th>\n",
       "      <td>0.003803</td>\n",
       "      <td>0.003803</td>\n",
       "      <td>0.003803</td>\n",
       "      <td>0.003803</td>\n",
       "    </tr>\n",
       "    <tr>\n",
       "      <th>75%</th>\n",
       "      <td>0.003803</td>\n",
       "      <td>0.003803</td>\n",
       "      <td>0.003803</td>\n",
       "      <td>0.003803</td>\n",
       "    </tr>\n",
       "    <tr>\n",
       "      <th>max</th>\n",
       "      <td>0.003803</td>\n",
       "      <td>0.003803</td>\n",
       "      <td>0.003803</td>\n",
       "      <td>0.003803</td>\n",
       "    </tr>\n",
       "  </tbody>\n",
       "</table>\n",
       "</div>"
      ],
      "text/plain": [
       "           Open      High       Low     Close\n",
       "count  1.000000  1.000000  1.000000  1.000000\n",
       "mean   0.003803  0.003803  0.003803  0.003803\n",
       "std         NaN       NaN       NaN       NaN\n",
       "min    0.003803  0.003803  0.003803  0.003803\n",
       "25%    0.003803  0.003803  0.003803  0.003803\n",
       "50%    0.003803  0.003803  0.003803  0.003803\n",
       "75%    0.003803  0.003803  0.003803  0.003803\n",
       "max    0.003803  0.003803  0.003803  0.003803"
      ]
     },
     "execution_count": 58,
     "metadata": {},
     "output_type": "execute_result"
    }
   ],
   "source": [
    "df.describe()"
   ]
  },
  {
   "cell_type": "code",
   "execution_count": null,
   "metadata": {},
   "outputs": [],
   "source": []
  }
 ],
 "metadata": {
  "kernelspec": {
   "display_name": "Python 3",
   "language": "python",
   "name": "python3"
  },
  "language_info": {
   "codemirror_mode": {
    "name": "ipython",
    "version": 3
   },
   "file_extension": ".py",
   "mimetype": "text/x-python",
   "name": "python",
   "nbconvert_exporter": "python",
   "pygments_lexer": "ipython3",
   "version": "3.6.7"
  }
 },
 "nbformat": 4,
 "nbformat_minor": 2
}
