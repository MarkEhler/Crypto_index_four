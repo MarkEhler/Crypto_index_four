{
 "cells": [
  {
   "cell_type": "code",
   "execution_count": 6,
   "metadata": {},
   "outputs": [],
   "source": [
    "import bs4\n",
    "from urllib.request import urlopen as uReq\n",
    "from bs4 import BeautifulSoup as soup\n",
    "import requests"
   ]
  },
  {
   "cell_type": "markdown",
   "metadata": {},
   "source": [
    "# general init function"
   ]
  },
  {
   "cell_type": "code",
   "execution_count": 15,
   "metadata": {},
   "outputs": [],
   "source": [
    "# source can be changed dynamically so that all currencies can be called with the same script using a function or a lass\n",
    "# start and end can also be adjusted dynamically for future scrapes\n",
    "\n",
    "def scrape_hist(currency):\n",
    "    source=requests.get(f\"https://coinmarketcap.com/currencies/{currency}/historical-data/?start=20130428&end=20191002\").text\n",
    "    page_soup=soup(source,\"lxml\")\n",
    "    scraped_page=page_soup.find_all(\"tr\",{\"class\":\"text-right\"})\n",
    "    return scraped_page"
   ]
  },
  {
   "cell_type": "code",
   "execution_count": 19,
   "metadata": {},
   "outputs": [],
   "source": [
    "decred = scrape_hist(\"decred\")"
   ]
  },
  {
   "cell_type": "code",
   "execution_count": null,
   "metadata": {},
   "outputs": [],
   "source": []
  },
  {
   "cell_type": "code",
   "execution_count": 20,
   "metadata": {},
   "outputs": [
    {
     "data": {
      "text/plain": [
       "43"
      ]
     },
     "execution_count": 20,
     "metadata": {},
     "output_type": "execute_result"
    }
   ],
   "source": [
    "filename=\"firstscrape.csv\"\n",
    "f=open(filename,\"w\")\n",
    "headers=\"Date,Open,High,Low,Close,Volume,Market_Cap\\n\"\n",
    "f.write(headers)"
   ]
  },
  {
   "cell_type": "code",
   "execution_count": 21,
   "metadata": {},
   "outputs": [
    {
     "name": "stdout",
     "output_type": "stream",
     "text": [
      "bs4\t decred\t f\t filename\t headers\t requests\t scrape_his\t scrape_hist\t soup\t \n",
      "uReq\t \n"
     ]
    }
   ],
   "source": [
    "%who"
   ]
  },
  {
   "cell_type": "code",
   "execution_count": 24,
   "metadata": {},
   "outputs": [],
   "source": [
    "# needs to parse the varibles to remove commas\n",
    "\n",
    "for i in range(len(decred)):\n",
    "    date = decred[i].td.text\n",
    "    price_list = decred[i].find_all(\"td\")\n",
    "    price = price_list[1].text\n",
    "    high = price_list[2].text\n",
    "    low = price_list[3].text\n",
    "    close = price_list[4].text\n",
    "    volume = price_list[5].text\n",
    "    market_cap = price_list[6].text\n",
    "    row=date.replace(\",\",\" \")+\",\"+price.replace(\",\",\" \") + \",\"+high.replace(\",\",\" \")+\",\"+low.replace(\",\",\" \")+\",\"+close.replace(\",\",\" \")+\",\"+volume.replace(\",\",\" \")+\",\"+market_cap.replace(\",\",\" \")+\"\\n\" \n",
    "    f.write(row)\n",
    "f.close()"
   ]
  },
  {
   "cell_type": "code",
   "execution_count": 6,
   "metadata": {},
   "outputs": [],
   "source": [
    "source=requests.get(\"https://coinmarketcap.com/currencies/aidcoin/historical-data/?start=20130428&end=20191002\").text\n",
    "page_soup=soup(source,\"lxml\")\n",
    "AidCoin=page_soup.find_all(\"tr\",{\"class\":\"text-right\"})"
   ]
  },
  {
   "cell_type": "code",
   "execution_count": 7,
   "metadata": {},
   "outputs": [
    {
     "data": {
      "text/plain": [
       "11"
      ]
     },
     "execution_count": 7,
     "metadata": {},
     "output_type": "execute_result"
    }
   ],
   "source": [
    "filename=\"firstscrape.csv\"\n",
    "f=open(filename,\"w\")\n",
    "headers=\"Date,Price\\n\"\n",
    "f.write(headers)"
   ]
  },
  {
   "cell_type": "code",
   "execution_count": 8,
   "metadata": {},
   "outputs": [],
   "source": [
    "for i in range(len(AidCoin)):\n",
    "    date=AidCoin[i].td.text\n",
    "    price_list = AidCoin[i].find_all(\"td\")\n",
    "    price=price_list[1].text\n",
    "    row=date.replace(\",\",\" \")+\",\"+price + \"\\n\" \n",
    "    f.write(row)\n",
    "f.close()"
   ]
  },
  {
   "cell_type": "code",
   "execution_count": 25,
   "metadata": {},
   "outputs": [],
   "source": [
    "import pandas as pd\n",
    "df = pd.read_csv('firstscrape.csv')"
   ]
  },
  {
   "cell_type": "code",
   "execution_count": 26,
   "metadata": {},
   "outputs": [
    {
     "data": {
      "text/html": [
       "<div>\n",
       "<style scoped>\n",
       "    .dataframe tbody tr th:only-of-type {\n",
       "        vertical-align: middle;\n",
       "    }\n",
       "\n",
       "    .dataframe tbody tr th {\n",
       "        vertical-align: top;\n",
       "    }\n",
       "\n",
       "    .dataframe thead th {\n",
       "        text-align: right;\n",
       "    }\n",
       "</style>\n",
       "<table border=\"1\" class=\"dataframe\">\n",
       "  <thead>\n",
       "    <tr style=\"text-align: right;\">\n",
       "      <th></th>\n",
       "      <th>Date</th>\n",
       "      <th>Open</th>\n",
       "      <th>High</th>\n",
       "      <th>Low</th>\n",
       "      <th>Close</th>\n",
       "      <th>Volume</th>\n",
       "      <th>Market_Cap</th>\n",
       "    </tr>\n",
       "  </thead>\n",
       "  <tbody>\n",
       "    <tr>\n",
       "      <th>0</th>\n",
       "      <td>Oct 02  2019</td>\n",
       "      <td>17.46</td>\n",
       "      <td>17.65</td>\n",
       "      <td>17.04</td>\n",
       "      <td>17.26</td>\n",
       "      <td>7 517 874</td>\n",
       "      <td>180 781 776</td>\n",
       "    </tr>\n",
       "    <tr>\n",
       "      <th>1</th>\n",
       "      <td>Oct 01  2019</td>\n",
       "      <td>17.46</td>\n",
       "      <td>17.92</td>\n",
       "      <td>17.25</td>\n",
       "      <td>17.46</td>\n",
       "      <td>7 240 253</td>\n",
       "      <td>182 788 420</td>\n",
       "    </tr>\n",
       "    <tr>\n",
       "      <th>2</th>\n",
       "      <td>Sep 30  2019</td>\n",
       "      <td>17.67</td>\n",
       "      <td>17.72</td>\n",
       "      <td>16.36</td>\n",
       "      <td>17.45</td>\n",
       "      <td>8 593 531</td>\n",
       "      <td>182 607 653</td>\n",
       "    </tr>\n",
       "    <tr>\n",
       "      <th>3</th>\n",
       "      <td>Sep 29  2019</td>\n",
       "      <td>18.01</td>\n",
       "      <td>18.43</td>\n",
       "      <td>17.31</td>\n",
       "      <td>17.67</td>\n",
       "      <td>7 439 542</td>\n",
       "      <td>184 785 280</td>\n",
       "    </tr>\n",
       "    <tr>\n",
       "      <th>4</th>\n",
       "      <td>Sep 28  2019</td>\n",
       "      <td>17.57</td>\n",
       "      <td>18.09</td>\n",
       "      <td>17.48</td>\n",
       "      <td>18.02</td>\n",
       "      <td>7 732 269</td>\n",
       "      <td>188 332 327</td>\n",
       "    </tr>\n",
       "  </tbody>\n",
       "</table>\n",
       "</div>"
      ],
      "text/plain": [
       "           Date   Open   High    Low  Close     Volume   Market_Cap\n",
       "0  Oct 02  2019  17.46  17.65  17.04  17.26  7 517 874  180 781 776\n",
       "1  Oct 01  2019  17.46  17.92  17.25  17.46  7 240 253  182 788 420\n",
       "2  Sep 30  2019  17.67  17.72  16.36  17.45  8 593 531  182 607 653\n",
       "3  Sep 29  2019  18.01  18.43  17.31  17.67  7 439 542  184 785 280\n",
       "4  Sep 28  2019  17.57  18.09  17.48  18.02  7 732 269  188 332 327"
      ]
     },
     "execution_count": 26,
     "metadata": {},
     "output_type": "execute_result"
    }
   ],
   "source": [
    "df.head()"
   ]
  },
  {
   "cell_type": "code",
   "execution_count": 28,
   "metadata": {},
   "outputs": [
    {
     "data": {
      "image/png": "[encoded data removed]",
      "text/plain": [
       "<Figure size 432x288 with 1 Axes>"
      ]
     },
     "metadata": {
      "needs_background": "light"
     },
     "output_type": "display_data"
    }
   ],
   "source": [
    "df['Open'].plot();"
   ]
  },
  {
   "cell_type": "code",
   "execution_count": null,
   "metadata": {},
   "outputs": [],
   "source": []
  }
 ],
 "metadata": {
  "kernelspec": {
   "display_name": "Python 3",
   "language": "python",
   "name": "python3"
  },
  "language_info": {
   "codemirror_mode": {
    "name": "ipython",
    "version": 3
   },
   "file_extension": ".py",
   "mimetype": "text/x-python",
   "name": "python",
   "nbconvert_exporter": "python",
   "pygments_lexer": "ipython3",
   "version": "3.6.7"
  }
 },
 "nbformat": 4,
 "nbformat_minor": 2
}
