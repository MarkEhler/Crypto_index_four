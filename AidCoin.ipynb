{
 "cells": [
  {
   "cell_type": "code",
   "execution_count": 2,
   "metadata": {},
   "outputs": [],
   "source": [
    "import bs4\n",
    "from urllib.request import urlopen as uReq\n",
    "from bs4 import BeautifulSoup as soup\n",
    "import requests\n",
    "import datetime"
   ]
  },
  {
   "cell_type": "markdown",
   "metadata": {},
   "source": [
    "# general init function"
   ]
  },
  {
   "cell_type": "code",
   "execution_count": 82,
   "metadata": {},
   "outputs": [],
   "source": [
    "# source can be changed dynamically so that all currencies can be called with the same script using a function or a lass\n",
    "# start and end can also be adjusted dynamically for future scrapes\n",
    "current_time = datetime.datetime.now()\n",
    "enddate = str(current_time.year) + str(current_time.month) + str(current_time.day)\n",
    "startdate = '20130428' # 2013-04-28\n",
    "\n",
    "currencies = ['aidcoin', 'decred', 'ecobit', 'faircoin']\n",
    "def scrape_hist(currency, startdate, enddate):\n",
    "    source=requests.get(f\"https://coinmarketcap.com/currencies/{currency}/historical-data/?start={startdate}&end={enddate}\").text\n",
    "    page_soup=soup(source,\"lxml\")\n",
    "    scraped_page=page_soup.find_all(\"tr\",{\"class\":\"text-right\"})\n",
    "    return scraped_page"
   ]
  },
  {
   "cell_type": "code",
   "execution_count": 35,
   "metadata": {},
   "outputs": [],
   "source": [
    "coins = {}\n",
    "for i in currencies:\n",
    "    coins.update( {i : scrape_hist(i, startdate, enddate)} )"
   ]
  },
  {
   "cell_type": "code",
   "execution_count": 38,
   "metadata": {},
   "outputs": [
    {
     "data": {
      "text/plain": [
       "dict_keys(['aidcoin', 'decred', 'ecobit', 'faircoin'])"
      ]
     },
     "execution_count": 38,
     "metadata": {},
     "output_type": "execute_result"
    }
   ],
   "source": [
    "coins.keys()"
   ]
  },
  {
   "cell_type": "code",
   "execution_count": 68,
   "metadata": {},
   "outputs": [
    {
     "data": {
      "text/plain": [
       "617"
      ]
     },
     "execution_count": 68,
     "metadata": {},
     "output_type": "execute_result"
    }
   ],
   "source": [
    "len(coins['aidcoin'])"
   ]
  },
  {
   "cell_type": "code",
   "execution_count": 54,
   "metadata": {},
   "outputs": [],
   "source": [
    "for i in coins['aidcoin'][0]:\n",
    "    print(coins[i][0].find_all(\"td\"))"
   ]
  },
  {
   "cell_type": "code",
   "execution_count": 69,
   "metadata": {},
   "outputs": [],
   "source": [
    "# needs to parse the varibles to remove commas\n",
    "\n",
    "for i in coins.keys():\n",
    "    filename= f\"{i}.csv\"\n",
    "    f=open(filename,\"w\")\n",
    "    headers=\"Date,Open,High,Low,Close,Volume,Market_Cap\\n\"\n",
    "    f.write(headers)\n",
    "    for j in range(len(coins[i])):\n",
    "        date = coins[i][j].td.text\n",
    "        price_list = coins[i][j].find_all(\"td\")\n",
    "        price = price_list[1].text\n",
    "        high = price_list[2].text\n",
    "        low = price_list[3].text\n",
    "        close = price_list[4].text\n",
    "        volume = price_list[5].text\n",
    "        market_cap = price_list[6].text\n",
    "        row=date.replace(\",\",\" \")+\",\"+price.replace(\",\",\" \") + \",\"+high.replace(\",\",\" \")+\",\"+low.replace(\",\",\" \")+\",\"+close.replace(\",\",\" \")+\",\"+volume.replace(\",\",\"\")+\",\"+market_cap.replace(\",\",\"\")+\"\\n\" \n",
    "        f.write(row)\n",
    "    f.close()"
   ]
  },
  {
   "cell_type": "code",
   "execution_count": 70,
   "metadata": {},
   "outputs": [],
   "source": [
    "import pandas as pd\n",
    "df = pd.read_csv('ecobit.csv')"
   ]
  },
  {
   "cell_type": "code",
   "execution_count": 71,
   "metadata": {},
   "outputs": [
    {
     "data": {
      "text/html": [
       "<div>\n",
       "<style scoped>\n",
       "    .dataframe tbody tr th:only-of-type {\n",
       "        vertical-align: middle;\n",
       "    }\n",
       "\n",
       "    .dataframe tbody tr th {\n",
       "        vertical-align: top;\n",
       "    }\n",
       "\n",
       "    .dataframe thead th {\n",
       "        text-align: right;\n",
       "    }\n",
       "</style>\n",
       "<table border=\"1\" class=\"dataframe\">\n",
       "  <thead>\n",
       "    <tr style=\"text-align: right;\">\n",
       "      <th></th>\n",
       "      <th>Date</th>\n",
       "      <th>Open</th>\n",
       "      <th>High</th>\n",
       "      <th>Low</th>\n",
       "      <th>Close</th>\n",
       "      <th>Volume</th>\n",
       "      <th>Market_Cap</th>\n",
       "    </tr>\n",
       "  </thead>\n",
       "  <tbody>\n",
       "    <tr>\n",
       "      <th>0</th>\n",
       "      <td>Oct 02  2019</td>\n",
       "      <td>0.003803</td>\n",
       "      <td>0.003803</td>\n",
       "      <td>0.003803</td>\n",
       "      <td>0.003803</td>\n",
       "      <td>-</td>\n",
       "      <td>1 690 337</td>\n",
       "    </tr>\n",
       "    <tr>\n",
       "      <th>1</th>\n",
       "      <td>Oct 01  2019</td>\n",
       "      <td>0.003730</td>\n",
       "      <td>0.003827</td>\n",
       "      <td>0.003699</td>\n",
       "      <td>0.003803</td>\n",
       "      <td>-</td>\n",
       "      <td>1 690 337</td>\n",
       "    </tr>\n",
       "    <tr>\n",
       "      <th>2</th>\n",
       "      <td>Sep 30  2019</td>\n",
       "      <td>0.003454</td>\n",
       "      <td>0.003738</td>\n",
       "      <td>0.003296</td>\n",
       "      <td>0.003730</td>\n",
       "      <td>5</td>\n",
       "      <td>1 657 680</td>\n",
       "    </tr>\n",
       "    <tr>\n",
       "      <th>3</th>\n",
       "      <td>Sep 29  2019</td>\n",
       "      <td>0.003454</td>\n",
       "      <td>0.003454</td>\n",
       "      <td>0.003454</td>\n",
       "      <td>0.003454</td>\n",
       "      <td>-</td>\n",
       "      <td>1 534 903</td>\n",
       "    </tr>\n",
       "    <tr>\n",
       "      <th>4</th>\n",
       "      <td>Sep 28  2019</td>\n",
       "      <td>0.003454</td>\n",
       "      <td>0.003454</td>\n",
       "      <td>0.003454</td>\n",
       "      <td>0.003454</td>\n",
       "      <td>-</td>\n",
       "      <td>1 534 903</td>\n",
       "    </tr>\n",
       "  </tbody>\n",
       "</table>\n",
       "</div>"
      ],
      "text/plain": [
       "           Date      Open      High       Low     Close Volume Market_Cap\n",
       "0  Oct 02  2019  0.003803  0.003803  0.003803  0.003803      -  1 690 337\n",
       "1  Oct 01  2019  0.003730  0.003827  0.003699  0.003803      -  1 690 337\n",
       "2  Sep 30  2019  0.003454  0.003738  0.003296  0.003730      5  1 657 680\n",
       "3  Sep 29  2019  0.003454  0.003454  0.003454  0.003454      -  1 534 903\n",
       "4  Sep 28  2019  0.003454  0.003454  0.003454  0.003454      -  1 534 903"
      ]
     },
     "execution_count": 71,
     "metadata": {},
     "output_type": "execute_result"
    }
   ],
   "source": [
    "df.head()"
   ]
  },
  {
   "cell_type": "code",
   "execution_count": 72,
   "metadata": {},
   "outputs": [
    {
     "data": {
      "text/html": [
       "<div>\n",
       "<style scoped>\n",
       "    .dataframe tbody tr th:only-of-type {\n",
       "        vertical-align: middle;\n",
       "    }\n",
       "\n",
       "    .dataframe tbody tr th {\n",
       "        vertical-align: top;\n",
       "    }\n",
       "\n",
       "    .dataframe thead th {\n",
       "        text-align: right;\n",
       "    }\n",
       "</style>\n",
       "<table border=\"1\" class=\"dataframe\">\n",
       "  <thead>\n",
       "    <tr style=\"text-align: right;\">\n",
       "      <th></th>\n",
       "      <th>Open</th>\n",
       "      <th>High</th>\n",
       "      <th>Low</th>\n",
       "      <th>Close</th>\n",
       "    </tr>\n",
       "  </thead>\n",
       "  <tbody>\n",
       "    <tr>\n",
       "      <th>count</th>\n",
       "      <td>816.000000</td>\n",
       "      <td>816.000000</td>\n",
       "      <td>816.000000</td>\n",
       "      <td>816.000000</td>\n",
       "    </tr>\n",
       "    <tr>\n",
       "      <th>mean</th>\n",
       "      <td>0.017414</td>\n",
       "      <td>0.019541</td>\n",
       "      <td>0.015770</td>\n",
       "      <td>0.017357</td>\n",
       "    </tr>\n",
       "    <tr>\n",
       "      <th>std</th>\n",
       "      <td>0.012377</td>\n",
       "      <td>0.015676</td>\n",
       "      <td>0.010269</td>\n",
       "      <td>0.012331</td>\n",
       "    </tr>\n",
       "    <tr>\n",
       "      <th>min</th>\n",
       "      <td>0.003162</td>\n",
       "      <td>0.003186</td>\n",
       "      <td>0.002631</td>\n",
       "      <td>0.003162</td>\n",
       "    </tr>\n",
       "    <tr>\n",
       "      <th>25%</th>\n",
       "      <td>0.010038</td>\n",
       "      <td>0.010857</td>\n",
       "      <td>0.009193</td>\n",
       "      <td>0.009996</td>\n",
       "    </tr>\n",
       "    <tr>\n",
       "      <th>50%</th>\n",
       "      <td>0.014957</td>\n",
       "      <td>0.016023</td>\n",
       "      <td>0.013820</td>\n",
       "      <td>0.014910</td>\n",
       "    </tr>\n",
       "    <tr>\n",
       "      <th>75%</th>\n",
       "      <td>0.020468</td>\n",
       "      <td>0.022404</td>\n",
       "      <td>0.018330</td>\n",
       "      <td>0.020469</td>\n",
       "    </tr>\n",
       "    <tr>\n",
       "      <th>max</th>\n",
       "      <td>0.127461</td>\n",
       "      <td>0.186572</td>\n",
       "      <td>0.097190</td>\n",
       "      <td>0.127294</td>\n",
       "    </tr>\n",
       "  </tbody>\n",
       "</table>\n",
       "</div>"
      ],
      "text/plain": [
       "             Open        High         Low       Close\n",
       "count  816.000000  816.000000  816.000000  816.000000\n",
       "mean     0.017414    0.019541    0.015770    0.017357\n",
       "std      0.012377    0.015676    0.010269    0.012331\n",
       "min      0.003162    0.003186    0.002631    0.003162\n",
       "25%      0.010038    0.010857    0.009193    0.009996\n",
       "50%      0.014957    0.016023    0.013820    0.014910\n",
       "75%      0.020468    0.022404    0.018330    0.020469\n",
       "max      0.127461    0.186572    0.097190    0.127294"
      ]
     },
     "execution_count": 72,
     "metadata": {},
     "output_type": "execute_result"
    }
   ],
   "source": [
    "df.describe()"
   ]
  },
  {
   "cell_type": "code",
   "execution_count": 37,
   "metadata": {},
   "outputs": [],
   "source": [
    "current_time = datetime.datetime.now()\n",
    "#     coins accepts a list\n",
    "class Scrape_Coin(object):\n",
    "\n",
    "    def __init__(self,\n",
    "                coins = None,\n",
    "                start_date = '20130428',\n",
    "                end_date = str(current_time.year) + str(current_time.month) + str(current_time.day)):\n",
    "        self.coins = coins\n",
    "        self.start_date = start_date\n",
    "        self.end_date = end_date\n",
    "        \n",
    "    def scrape_hist(self, coin):\n",
    "        source=requests.get(f\"https://coinmarketcap.com/currencies/{coin}/historical-data/?start={self.start_date}&end={self.end_date}\").text\n",
    "        page_soup=soup(source,\"lxml\")\n",
    "        scraped_page=page_soup.find_all(\"tr\",{\"class\":\"text-right\"})\n",
    "        return scraped_page\n",
    "    \n",
    "    def compile_csv(self):\n",
    "        coin_list = {}\n",
    "        for i in self.coins:\n",
    "            coin_list.update( {i : self.scrape_hist(i)} )\n",
    "\n",
    "        for i in coin_list.keys():\n",
    "            filename= f\"{i}.csv\"\n",
    "            f=open(filename,\"w\")\n",
    "            headers=\"Date,Open,High,Low,Close,Volume,Market_Cap\\n\"\n",
    "            f.write(headers)\n",
    "            for j in range(len(coin_list[i])):\n",
    "                date = coins[i][j].td.text\n",
    "                price_list = coins[i][j].find_all(\"td\")\n",
    "                price = price_list[1].text\n",
    "                high = price_list[2].text\n",
    "                low = price_list[3].text\n",
    "                close = price_list[4].text\n",
    "                volume = price_list[5].text\n",
    "                market_cap = price_list[6].text\n",
    "                row=date.replace(\",\",\" \")+\",\"+price.replace(\",\",\"\") + \",\"+high.replace(\",\",\"\")+\",\"+low.replace(\",\",\"\")+\",\"+close.replace(\",\",\"\")+\",\"+volume.replace(\",\",\"\")+\",\"+market_cap.replace(\",\",\"\")+\"\\n\" \n",
    "                f.write(row)\n",
    "            f.close()"
   ]
  },
  {
   "cell_type": "code",
   "execution_count": 38,
   "metadata": {},
   "outputs": [],
   "source": [
    "bitcoin = Scrape_Coin(coins=['bitcoin'])"
   ]
  },
  {
   "cell_type": "code",
   "execution_count": 39,
   "metadata": {},
   "outputs": [],
   "source": [
    "bitcoin.compile_csv()"
   ]
  },
  {
   "cell_type": "code",
   "execution_count": 33,
   "metadata": {},
   "outputs": [
    {
     "data": {
      "text/plain": [
       "['bitcoin']"
      ]
     },
     "execution_count": 33,
     "metadata": {},
     "output_type": "execute_result"
    }
   ],
   "source": [
    "getattr(bitcoin, 'coins')"
   ]
  },
  {
   "cell_type": "code",
   "execution_count": null,
   "metadata": {},
   "outputs": [],
   "source": []
  },
  {
   "cell_type": "code",
   "execution_count": null,
   "metadata": {},
   "outputs": [],
   "source": []
  }
 ],
 "metadata": {
  "kernelspec": {
   "display_name": "Python 3",
   "language": "python",
   "name": "python3"
  },
  "language_info": {
   "codemirror_mode": {
    "name": "ipython",
    "version": 3
   },
   "file_extension": ".py",
   "mimetype": "text/x-python",
   "name": "python",
   "nbconvert_exporter": "python",
   "pygments_lexer": "ipython3",
   "version": "3.6.7"
  }
 },
 "nbformat": 4,
 "nbformat_minor": 2
}
