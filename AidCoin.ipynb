{
 "cells": [
  {
   "cell_type": "code",
   "execution_count": 31,
   "metadata": {},
   "outputs": [],
   "source": [
    "import bs4\n",
    "from urllib.request import urlopen as uReq\n",
    "from bs4 import BeautifulSoup as soup\n",
    "import requests"
   ]
  },
  {
   "cell_type": "markdown",
   "metadata": {},
   "source": [
    "# general init function"
   ]
  },
  {
   "cell_type": "code",
   "execution_count": 34,
   "metadata": {},
   "outputs": [],
   "source": [
    "# source can be changed dynamically so that all currencies can be called with the same script using a function or a lass\n",
    "# start and end can also be adjusted dynamically for future scrapes\n",
    "enddate = '20191002'\n",
    "startdate = '20130428' # 10/28/2019\n",
    "currencies = ['aidcoin', 'decred', 'ecobit', 'faircoin']\n",
    "def scrape_hist(currency, startdate, enddate):\n",
    "    source=requests.get(f\"https://coinmarketcap.com/currencies/{currency}/historical-data/?start={startdate}&end={enddate}\").text\n",
    "    page_soup=soup(source,\"lxml\")\n",
    "    scraped_page=page_soup.find_all(\"tr\",{\"class\":\"text-right\"})\n",
    "    return scraped_page"
   ]
  },
  {
   "cell_type": "code",
   "execution_count": 35,
   "metadata": {},
   "outputs": [],
   "source": [
    "coins = {}\n",
    "for i in currencies:\n",
    "    coins.update( {i : scrape_hist(i, startdate, enddate)} )"
   ]
  },
  {
   "cell_type": "code",
   "execution_count": 38,
   "metadata": {},
   "outputs": [
    {
     "data": {
      "text/plain": [
       "dict_keys(['aidcoin', 'decred', 'ecobit', 'faircoin'])"
      ]
     },
     "execution_count": 38,
     "metadata": {},
     "output_type": "execute_result"
    }
   ],
   "source": [
    "coins.keys()"
   ]
  },
  {
   "cell_type": "code",
   "execution_count": 54,
   "metadata": {},
   "outputs": [],
   "source": [
    "# for i in coins.keys():\n",
    "#     print(coins[i][0].find_all(\"td\"))"
   ]
  },
  {
   "cell_type": "code",
   "execution_count": 55,
   "metadata": {},
   "outputs": [],
   "source": [
    "# needs to parse the varibles to remove commas\n",
    "\n",
    "for i in coins.keys():\n",
    "    filename= f\"{i}.csv\"\n",
    "    f=open(filename,\"w\")\n",
    "    headers=\"Date,Open,High,Low,Close,Volume,Market_Cap\\n\"\n",
    "    f.write(headers)\n",
    "    date = coins[i][0].td.text\n",
    "    price_list = coins[i][0].find_all(\"td\")\n",
    "    price = price_list[1].text\n",
    "    high = price_list[2].text\n",
    "    low = price_list[3].text\n",
    "    close = price_list[4].text\n",
    "    volume = price_list[5].text\n",
    "    market_cap = price_list[6].text\n",
    "    row=date.replace(\",\",\" \")+\",\"+price.replace(\",\",\" \") + \",\"+high.replace(\",\",\" \")+\",\"+low.replace(\",\",\" \")+\",\"+close.replace(\",\",\" \")+\",\"+volume.replace(\",\",\" \")+\",\"+market_cap.replace(\",\",\" \")+\"\\n\" \n",
    "    f.write(row)\n",
    "f.close()"
   ]
  },
  {
   "cell_type": "code",
   "execution_count": 25,
   "metadata": {},
   "outputs": [],
   "source": [
    "import pandas as pd\n",
    "df = pd.read_csv('firstscrape.csv')"
   ]
  },
  {
   "cell_type": "code",
   "execution_count": 26,
   "metadata": {},
   "outputs": [
    {
     "data": {
      "text/html": [
       "<div>\n",
       "<style scoped>\n",
       "    .dataframe tbody tr th:only-of-type {\n",
       "        vertical-align: middle;\n",
       "    }\n",
       "\n",
       "    .dataframe tbody tr th {\n",
       "        vertical-align: top;\n",
       "    }\n",
       "\n",
       "    .dataframe thead th {\n",
       "        text-align: right;\n",
       "    }\n",
       "</style>\n",
       "<table border=\"1\" class=\"dataframe\">\n",
       "  <thead>\n",
       "    <tr style=\"text-align: right;\">\n",
       "      <th></th>\n",
       "      <th>Date</th>\n",
       "      <th>Open</th>\n",
       "      <th>High</th>\n",
       "      <th>Low</th>\n",
       "      <th>Close</th>\n",
       "      <th>Volume</th>\n",
       "      <th>Market_Cap</th>\n",
       "    </tr>\n",
       "  </thead>\n",
       "  <tbody>\n",
       "    <tr>\n",
       "      <th>0</th>\n",
       "      <td>Oct 02  2019</td>\n",
       "      <td>17.46</td>\n",
       "      <td>17.65</td>\n",
       "      <td>17.04</td>\n",
       "      <td>17.26</td>\n",
       "      <td>7 517 874</td>\n",
       "      <td>180 781 776</td>\n",
       "    </tr>\n",
       "    <tr>\n",
       "      <th>1</th>\n",
       "      <td>Oct 01  2019</td>\n",
       "      <td>17.46</td>\n",
       "      <td>17.92</td>\n",
       "      <td>17.25</td>\n",
       "      <td>17.46</td>\n",
       "      <td>7 240 253</td>\n",
       "      <td>182 788 420</td>\n",
       "    </tr>\n",
       "    <tr>\n",
       "      <th>2</th>\n",
       "      <td>Sep 30  2019</td>\n",
       "      <td>17.67</td>\n",
       "      <td>17.72</td>\n",
       "      <td>16.36</td>\n",
       "      <td>17.45</td>\n",
       "      <td>8 593 531</td>\n",
       "      <td>182 607 653</td>\n",
       "    </tr>\n",
       "    <tr>\n",
       "      <th>3</th>\n",
       "      <td>Sep 29  2019</td>\n",
       "      <td>18.01</td>\n",
       "      <td>18.43</td>\n",
       "      <td>17.31</td>\n",
       "      <td>17.67</td>\n",
       "      <td>7 439 542</td>\n",
       "      <td>184 785 280</td>\n",
       "    </tr>\n",
       "    <tr>\n",
       "      <th>4</th>\n",
       "      <td>Sep 28  2019</td>\n",
       "      <td>17.57</td>\n",
       "      <td>18.09</td>\n",
       "      <td>17.48</td>\n",
       "      <td>18.02</td>\n",
       "      <td>7 732 269</td>\n",
       "      <td>188 332 327</td>\n",
       "    </tr>\n",
       "  </tbody>\n",
       "</table>\n",
       "</div>"
      ],
      "text/plain": [
       "           Date   Open   High    Low  Close     Volume   Market_Cap\n",
       "0  Oct 02  2019  17.46  17.65  17.04  17.26  7 517 874  180 781 776\n",
       "1  Oct 01  2019  17.46  17.92  17.25  17.46  7 240 253  182 788 420\n",
       "2  Sep 30  2019  17.67  17.72  16.36  17.45  8 593 531  182 607 653\n",
       "3  Sep 29  2019  18.01  18.43  17.31  17.67  7 439 542  184 785 280\n",
       "4  Sep 28  2019  17.57  18.09  17.48  18.02  7 732 269  188 332 327"
      ]
     },
     "execution_count": 26,
     "metadata": {},
     "output_type": "execute_result"
    }
   ],
   "source": [
    "df.head()"
   ]
  },
  {
   "cell_type": "code",
   "execution_count": 30,
   "metadata": {},
   "outputs": [
    {
     "data": {
      "text/html": [
       "<div>\n",
       "<style scoped>\n",
       "    .dataframe tbody tr th:only-of-type {\n",
       "        vertical-align: middle;\n",
       "    }\n",
       "\n",
       "    .dataframe tbody tr th {\n",
       "        vertical-align: top;\n",
       "    }\n",
       "\n",
       "    .dataframe thead th {\n",
       "        text-align: right;\n",
       "    }\n",
       "</style>\n",
       "<table border=\"1\" class=\"dataframe\">\n",
       "  <thead>\n",
       "    <tr style=\"text-align: right;\">\n",
       "      <th></th>\n",
       "      <th>Open</th>\n",
       "      <th>High</th>\n",
       "      <th>Low</th>\n",
       "      <th>Close</th>\n",
       "    </tr>\n",
       "  </thead>\n",
       "  <tbody>\n",
       "    <tr>\n",
       "      <th>count</th>\n",
       "      <td>1331.000000</td>\n",
       "      <td>1331.000000</td>\n",
       "      <td>1331.000000</td>\n",
       "      <td>1331.000000</td>\n",
       "    </tr>\n",
       "    <tr>\n",
       "      <th>mean</th>\n",
       "      <td>28.701319</td>\n",
       "      <td>30.264438</td>\n",
       "      <td>27.108433</td>\n",
       "      <td>28.717865</td>\n",
       "    </tr>\n",
       "    <tr>\n",
       "      <th>std</th>\n",
       "      <td>27.974969</td>\n",
       "      <td>29.594244</td>\n",
       "      <td>26.229161</td>\n",
       "      <td>27.961888</td>\n",
       "    </tr>\n",
       "    <tr>\n",
       "      <th>min</th>\n",
       "      <td>0.421673</td>\n",
       "      <td>0.459372</td>\n",
       "      <td>0.394796</td>\n",
       "      <td>0.422478</td>\n",
       "    </tr>\n",
       "    <tr>\n",
       "      <th>25%</th>\n",
       "      <td>2.050000</td>\n",
       "      <td>2.180000</td>\n",
       "      <td>1.935000</td>\n",
       "      <td>2.060000</td>\n",
       "    </tr>\n",
       "    <tr>\n",
       "      <th>50%</th>\n",
       "      <td>24.550000</td>\n",
       "      <td>25.640000</td>\n",
       "      <td>23.170000</td>\n",
       "      <td>24.470000</td>\n",
       "    </tr>\n",
       "    <tr>\n",
       "      <th>75%</th>\n",
       "      <td>38.575000</td>\n",
       "      <td>40.060000</td>\n",
       "      <td>36.870000</td>\n",
       "      <td>38.615000</td>\n",
       "    </tr>\n",
       "    <tr>\n",
       "      <th>max</th>\n",
       "      <td>122.400000</td>\n",
       "      <td>139.940000</td>\n",
       "      <td>116.940000</td>\n",
       "      <td>122.740000</td>\n",
       "    </tr>\n",
       "  </tbody>\n",
       "</table>\n",
       "</div>"
      ],
      "text/plain": [
       "              Open         High          Low        Close\n",
       "count  1331.000000  1331.000000  1331.000000  1331.000000\n",
       "mean     28.701319    30.264438    27.108433    28.717865\n",
       "std      27.974969    29.594244    26.229161    27.961888\n",
       "min       0.421673     0.459372     0.394796     0.422478\n",
       "25%       2.050000     2.180000     1.935000     2.060000\n",
       "50%      24.550000    25.640000    23.170000    24.470000\n",
       "75%      38.575000    40.060000    36.870000    38.615000\n",
       "max     122.400000   139.940000   116.940000   122.740000"
      ]
     },
     "execution_count": 30,
     "metadata": {},
     "output_type": "execute_result"
    }
   ],
   "source": [
    "df.describe()"
   ]
  },
  {
   "cell_type": "code",
   "execution_count": null,
   "metadata": {},
   "outputs": [],
   "source": []
  }
 ],
 "metadata": {
  "kernelspec": {
   "display_name": "Python 3",
   "language": "python",
   "name": "python3"
  },
  "language_info": {
   "codemirror_mode": {
    "name": "ipython",
    "version": 3
   },
   "file_extension": ".py",
   "mimetype": "text/x-python",
   "name": "python",
   "nbconvert_exporter": "python",
   "pygments_lexer": "ipython3",
   "version": "3.6.7"
  }
 },
 "nbformat": 4,
 "nbformat_minor": 2
}
