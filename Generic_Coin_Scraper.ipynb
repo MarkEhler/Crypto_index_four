{
 "cells": [
  {
   "cell_type": "code",
   "execution_count": null,
   "metadata": {},
   "outputs": [],
   "source": [
    "# Coin Market Cap Scraper\n",
    "Generic scraper takes a list of `coins` that are names of currencies as input and an optional `start_date` "
   ]
  },
  {
   "cell_type": "code",
   "execution_count": 2,
   "metadata": {},
   "outputs": [],
   "source": [
    "import bs4\n",
    "from urllib.request import urlopen as uReq\n",
    "from bs4 import BeautifulSoup as soup\n",
    "import requests\n",
    "import datetime"
   ]
  },
  {
   "cell_type": "markdown",
   "metadata": {},
   "source": [
    "# General init Class"
   ]
  },
  {
   "cell_type": "code",
   "execution_count": 37,
   "metadata": {},
   "outputs": [],
   "source": [
    "current_time = datetime.datetime.now()\n",
    "#     coins accepts a list\n",
    "class Scrape_Coin(object):\n",
    "\n",
    "    def __init__(self,\n",
    "                coins = None,\n",
    "                start_date = '20130428',\n",
    "                end_date = str(current_time.year) + str(current_time.month) + str(current_time.day)):\n",
    "        self.coins = coins\n",
    "        self.start_date = start_date\n",
    "        self.end_date = end_date\n",
    "        \n",
    "    def scrape_hist(self, coin):\n",
    "        source=requests.get(f\"https://coinmarketcap.com/currencies/{coin}/historical-data/?start={self.start_date}&end={self.end_date}\").text\n",
    "        page_soup=soup(source,\"lxml\")\n",
    "        scraped_page=page_soup.find_all(\"tr\",{\"class\":\"text-right\"})\n",
    "        return scraped_page\n",
    "    \n",
    "    def compile_csv(self):\n",
    "        coin_list = {}\n",
    "        for i in self.coins:\n",
    "            coin_list.update( {i : self.scrape_hist(i)} )\n",
    "\n",
    "        for i in coin_list.keys():\n",
    "            filename= f\"{i}.csv\"\n",
    "            f=open(filename,\"w\")\n",
    "            headers=\"Date,Open,High,Low,Close,Volume,Market_Cap\\n\"\n",
    "            f.write(headers)\n",
    "            for j in range(len(coin_list[i])):\n",
    "                date = coins[i][j].td.text\n",
    "                price_list = coins[i][j].find_all(\"td\")\n",
    "                price = price_list[1].text\n",
    "                high = price_list[2].text\n",
    "                low = price_list[3].text\n",
    "                close = price_list[4].text\n",
    "                volume = price_list[5].text\n",
    "                market_cap = price_list[6].text\n",
    "                row=date.replace(\",\",\" \")+\",\"+price.replace(\",\",\"\") + \",\"+high.replace(\",\",\"\")+\",\"+low.replace(\",\",\"\")+\",\"+close.replace(\",\",\"\")+\",\"+volume.replace(\",\",\"\")+\",\"+market_cap.replace(\",\",\"\")+\"\\n\" \n",
    "                f.write(row)\n",
    "            f.close()"
   ]
  },
  {
   "cell_type": "code",
   "execution_count": 38,
   "metadata": {},
   "outputs": [],
   "source": [
    "bitcoin = Scrape_Coin(coins=['bitcoin'])"
   ]
  },
  {
   "cell_type": "code",
   "execution_count": 39,
   "metadata": {},
   "outputs": [],
   "source": [
    "bitcoin.compile_csv()"
   ]
  },
  {
   "cell_type": "code",
   "execution_count": 33,
   "metadata": {},
   "outputs": [
    {
     "data": {
      "text/plain": [
       "['bitcoin']"
      ]
     },
     "execution_count": 33,
     "metadata": {},
     "output_type": "execute_result"
    }
   ],
   "source": [
    "getattr(bitcoin, 'coins')"
   ]
  },
  {
   "cell_type": "code",
   "execution_count": null,
   "metadata": {},
   "outputs": [],
   "source": []
  },
  {
   "cell_type": "code",
   "execution_count": null,
   "metadata": {},
   "outputs": [],
   "source": []
  }
 ],
 "metadata": {
  "kernelspec": {
   "display_name": "Python 3",
   "language": "python",
   "name": "python3"
  },
  "language_info": {
   "codemirror_mode": {
    "name": "ipython",
    "version": 3
   },
   "file_extension": ".py",
   "mimetype": "text/x-python",
   "name": "python",
   "nbconvert_exporter": "python",
   "pygments_lexer": "ipython3",
   "version": "3.6.7"
  }
 },
 "nbformat": 4,
 "nbformat_minor": 2
}
